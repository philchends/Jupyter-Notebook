{
 "cells": [
  {
   "cell_type": "markdown",
   "metadata": {},
   "source": [
    "# <center>Data Science Tools and Ecosystem</center>"
   ]
  },
  {
   "cell_type": "markdown",
   "metadata": {},
   "source": [
    "## <center>Author</center>\n",
    "<center><img src=\"https://philtheanalyst.com/wp-content/uploads/2021/08/PhilChenConsulting-1.png\" width=\"90\"></center>\n"
   ]
  },
  {
   "cell_type": "markdown",
   "metadata": {},
   "source": [
    "## Introduction\n",
    "In this notebook, we will cover the essential data science tools and ecosystems in the following areas:\n",
    "\n",
    "* **Programming Languages**\n",
    "* **Libraries In Data Science**\n",
    "* **Integrated Development Environment Open Source Tools**"
   ]
  },
  {
   "cell_type": "markdown",
   "metadata": {},
   "source": [
    "**Objectives:**\n",
    "\n",
    "- **Programming Languages**: We'll take a quick glance of most popular programming languages including Python, R, SQL, and other important languages like Java and Scala. The idea is to understand how each language fits into the data science landscape.\n",
    "\n",
    "- **Exploring Data Science Libraries and Tools**: We'll introduce key libraries in Python and R, as well as tools for effective coding and analysis.\n",
    "\n",
    "- **Basic Arithmetic in Python**: We'll demonstrate simple arithmetic expressions in Python for basic operations like addition, subtraction, multiplication, exponentiation, and modulus.\n",
    "\n",
    "- **Practical Application Examples**: Applying our knowledge to practical scenarios, such as converting minutes to hours in Python."
   ]
  },
  {
   "cell_type": "markdown",
   "metadata": {},
   "source": [
    "## Programming languages In Data Science\n",
    "The following are popular languages Data Scientists use:\n",
    "1. **Python**: Popular for its flexibility, Python is a top choice for beginners. Its strength lies in a wide range of libraries like Pandas and NumPy, simplifying data analysis and machine learning tasks.\n",
    "\n",
    "2. **R**: Best suited for statistical analysis and visualizing data, R is ideal for more complex, specialized data tasks. It offers a comprehensive set of packages for detailed statistical methods. Starting with R, I found R relatively easy for beginners without prior experience in coding.\n",
    "\n",
    "3. **SQL**: Essential for database management, SQL helps efficiently retrieve and manipulate stored data, playing a primary role in organizing and preparing data for analysis. Most data analyst roles require knowledge and skills in SQL. \n",
    "\n",
    "4. **Other Languages**: Besides Python, R, and SQL, Java and Scala are also widely used in the data science landscape. Java is known for its robustness in large-scale data environments, while Scala is often used for big data processing, especially with tools like Apache Spark.\n",
    "\n",
    "Each language serves a unique purpose, allowing you to choose based on project needs and personal preferences. Starting with Python is commonly recommended due to its applicability and user-friendly nature.\n"
   ]
  },
  {
   "cell_type": "markdown",
   "metadata": {},
   "source": [
    "## Commonly Used Libraries in Data Science\n",
    "\n",
    "1. **Pandas**: Known for its strength in handling data frames, making data cleaning and preparation simpler.\n",
    "\n",
    "2. **NumPy**: NumPy is efficient in managing large arrays and matrices, essential for complex mathematical operations.\n",
    "\n",
    "3. **Matplotlib and Seaborn**: Central to data visualization. Matplotlib provides plotting tools, while Seaborn offers advanced functions for creating detailed statistical graphics.\n",
    "\n",
    "4. **Scikit-Learn**: For machine learning. Scikit-Learn offers algorithms for tasks such as classification, regression, and clustering.\n",
    "\n",
    "5. **TensorFlow and PyTorch**: Interested in deep learning? TensorFlow is known for its robust ecosystem, while PyTorch is favored for its computation capabilities and intuitive interface.\n",
    "\n",
    "6. **Caret, ggplot2, and dplyr (for R)**: Caret simplifies the process of creating and evaluating machine learning models. ggplot2 is a powerful tool for creating sophisticated data visualizations, and dplyr is excellent for data manipulation, offering a range of functions to simplify and speed up data processing tasks in R."
   ]
  },
  {
   "cell_type": "markdown",
   "metadata": {},
   "source": [
    "## Development Eenvironment Open Source Tools Used In Data Science\n",
    "\n",
    "|Data Science Tools|\n",
    "|-------|\n",
    "|Jupyter Notebook (Python)|\n",
    "|RStudio (R / Python) |\n",
    "|Anaconda Navigato (R / Python)|"
   ]
  },
  {
   "cell_type": "markdown",
   "metadata": {},
   "source": [
    "### Examples Of Evaluating Arithmetic Expressions In Python.\n",
    "\n",
    "1. Addition: `8 + 2` results in `10`\n",
    "2. Subtraction: `15 - 5` results in `10`\n",
    "3. Multiplication: `4 * 6` results in `24`\n",
    "4. Division: `18 / 3` results in `6.0`\n",
    "5. Exponentiation: `3 ** 4` results in `81`\n",
    "6. Modulus: `14 % 5` results in `4`\n",
    "7. Floor Division: `20 // 6` results in `3`"
   ]
  },
  {
   "cell_type": "code",
   "execution_count": 1,
   "metadata": {},
   "outputs": [
    {
     "data": {
      "text/plain": [
       "17"
      ]
     },
     "execution_count": 1,
     "metadata": {},
     "output_type": "execute_result"
    }
   ],
   "source": [
    "# This a simple arithmetic expression to multiply then add integers\n",
    "(3 * 4) + 5"
   ]
  },
  {
   "cell_type": "code",
   "execution_count": 2,
   "metadata": {},
   "outputs": [
    {
     "data": {
      "text/plain": [
       "3.3333333333333335"
      ]
     },
     "execution_count": 2,
     "metadata": {},
     "output_type": "execute_result"
    }
   ],
   "source": [
    "# This will convert 200 minutes to hours by dividing by 60.\n",
    "# The result is in decimal form, representing about 3.3 hours.\n",
    "200 / 60"
   ]
  }
 ],
 "metadata": {
  "kernelspec": {
   "display_name": "Python 3 (ipykernel)",
   "language": "python",
   "name": "python3"
  },
  "language_info": {
   "codemirror_mode": {
    "name": "ipython",
    "version": 3
   },
   "file_extension": ".py",
   "mimetype": "text/x-python",
   "name": "python",
   "nbconvert_exporter": "python",
   "pygments_lexer": "ipython3",
   "version": "3.10.9"
  }
 },
 "nbformat": 4,
 "nbformat_minor": 4
}
